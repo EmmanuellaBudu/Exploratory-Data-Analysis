{
 "cells": [
  {
   "cell_type": "markdown",
   "metadata": {},
   "source": [
    "The purpose of this notebook is to explore the Covid-19 Dataset of countries that went under lockdown. The dataset was obtained from https://www.kaggle.com/ishivinal/covid19-useful-features-by-country\n",
    "By Emmanuella Budu"
   ]
  },
  {
   "cell_type": "markdown",
   "metadata": {},
   "source": [
    "# 1. Preliminaries\n",
    "First load the relevant libraries and load the dataset"
   ]
  },
  {
   "cell_type": "code",
   "execution_count": 1,
   "metadata": {},
   "outputs": [],
   "source": [
    "import pandas as pd\n",
    "import seaborn as sns\n",
    "from matplotlib import pyplot as plt\n",
    "import datetime"
   ]
  },
  {
   "cell_type": "code",
   "execution_count": 2,
   "metadata": {},
   "outputs": [],
   "source": [
    "#Load the dataset\n",
    "\n",
    "covid_df= pd.read_csv('C:/Users/Emmanuella\\OneDrive - University of Botswana/Zindi/Covid-19 Countries by Lockdown/Countries.csv')\n",
    "\n",
    "#make a copy of the data set\n",
    "covid_og_df = covid_df"
   ]
  },
  {
   "cell_type": "markdown",
   "metadata": {},
   "source": [
    "# 2. Details about the dataset"
   ]
  },
  {
   "cell_type": "code",
   "execution_count": 3,
   "metadata": {},
   "outputs": [
    {
     "data": {
      "text/html": [
       "<div>\n",
       "<style scoped>\n",
       "    .dataframe tbody tr th:only-of-type {\n",
       "        vertical-align: middle;\n",
       "    }\n",
       "\n",
       "    .dataframe tbody tr th {\n",
       "        vertical-align: top;\n",
       "    }\n",
       "\n",
       "    .dataframe thead th {\n",
       "        text-align: right;\n",
       "    }\n",
       "</style>\n",
       "<table border=\"1\" class=\"dataframe\">\n",
       "  <thead>\n",
       "    <tr style=\"text-align: right;\">\n",
       "      <th></th>\n",
       "      <th>Country_Region</th>\n",
       "      <th>Population_Size</th>\n",
       "      <th>Tourism</th>\n",
       "      <th>Date_FirstFatality</th>\n",
       "      <th>Date_FirstConfirmedCase</th>\n",
       "      <th>Latitude</th>\n",
       "      <th>Longtitude</th>\n",
       "      <th>Mean_Age</th>\n",
       "      <th>Lockdown_Date</th>\n",
       "      <th>Lockdown_Type</th>\n",
       "      <th>Country_Code</th>\n",
       "    </tr>\n",
       "  </thead>\n",
       "  <tbody>\n",
       "    <tr>\n",
       "      <td>0</td>\n",
       "      <td>Afghanistan</td>\n",
       "      <td>37172386</td>\n",
       "      <td>14000</td>\n",
       "      <td>2020-03-23</td>\n",
       "      <td>2020-02-25</td>\n",
       "      <td>33.939110</td>\n",
       "      <td>67.709953</td>\n",
       "      <td>17.3</td>\n",
       "      <td>2020-03-24</td>\n",
       "      <td>Full</td>\n",
       "      <td>AFG</td>\n",
       "    </tr>\n",
       "    <tr>\n",
       "      <td>1</td>\n",
       "      <td>Albania</td>\n",
       "      <td>2866376</td>\n",
       "      <td>5340000</td>\n",
       "      <td>2020-03-12</td>\n",
       "      <td>2020-03-10</td>\n",
       "      <td>41.153332</td>\n",
       "      <td>20.168331</td>\n",
       "      <td>36.2</td>\n",
       "      <td>2020-03-08</td>\n",
       "      <td>Full</td>\n",
       "      <td>ALB</td>\n",
       "    </tr>\n",
       "    <tr>\n",
       "      <td>2</td>\n",
       "      <td>Algeria</td>\n",
       "      <td>42228429</td>\n",
       "      <td>2657000</td>\n",
       "      <td>2020-03-13</td>\n",
       "      <td>2020-02-26</td>\n",
       "      <td>28.033886</td>\n",
       "      <td>1.659626</td>\n",
       "      <td>27.5</td>\n",
       "      <td>2020-03-24</td>\n",
       "      <td>Full</td>\n",
       "      <td>DZA</td>\n",
       "    </tr>\n",
       "    <tr>\n",
       "      <td>3</td>\n",
       "      <td>Andorra</td>\n",
       "      <td>77006</td>\n",
       "      <td>3042000</td>\n",
       "      <td>2020-03-23</td>\n",
       "      <td>2020-03-03</td>\n",
       "      <td>42.546245</td>\n",
       "      <td>1.601554</td>\n",
       "      <td>37.0</td>\n",
       "      <td>2020-03-16</td>\n",
       "      <td>Full</td>\n",
       "      <td>AND</td>\n",
       "    </tr>\n",
       "    <tr>\n",
       "      <td>4</td>\n",
       "      <td>Angola</td>\n",
       "      <td>30809762</td>\n",
       "      <td>218000</td>\n",
       "      <td>2020-03-30</td>\n",
       "      <td>2020-03-21</td>\n",
       "      <td>-11.202692</td>\n",
       "      <td>17.873887</td>\n",
       "      <td>16.4</td>\n",
       "      <td>NaN</td>\n",
       "      <td>NaN</td>\n",
       "      <td>AGO</td>\n",
       "    </tr>\n",
       "    <tr>\n",
       "      <td>5</td>\n",
       "      <td>Antigua and Barbuda</td>\n",
       "      <td>96286</td>\n",
       "      <td>269000</td>\n",
       "      <td>2020-04-08</td>\n",
       "      <td>2020-03-14</td>\n",
       "      <td>17.060816</td>\n",
       "      <td>-61.796428</td>\n",
       "      <td>30.7</td>\n",
       "      <td>NaN</td>\n",
       "      <td>NaN</td>\n",
       "      <td>ATG</td>\n",
       "    </tr>\n",
       "    <tr>\n",
       "      <td>6</td>\n",
       "      <td>Argentina</td>\n",
       "      <td>44494502</td>\n",
       "      <td>6942000</td>\n",
       "      <td>2020-03-09</td>\n",
       "      <td>2020-03-04</td>\n",
       "      <td>-38.416097</td>\n",
       "      <td>-63.616672</td>\n",
       "      <td>30.8</td>\n",
       "      <td>2020-03-20</td>\n",
       "      <td>Full</td>\n",
       "      <td>ARG</td>\n",
       "    </tr>\n",
       "    <tr>\n",
       "      <td>7</td>\n",
       "      <td>Armenia</td>\n",
       "      <td>2951776</td>\n",
       "      <td>1652000</td>\n",
       "      <td>2020-03-27</td>\n",
       "      <td>2020-03-02</td>\n",
       "      <td>40.069099</td>\n",
       "      <td>45.038189</td>\n",
       "      <td>33.9</td>\n",
       "      <td>2020-03-24</td>\n",
       "      <td>Full</td>\n",
       "      <td>ARM</td>\n",
       "    </tr>\n",
       "    <tr>\n",
       "      <td>8</td>\n",
       "      <td>Australia</td>\n",
       "      <td>24982688</td>\n",
       "      <td>9246000</td>\n",
       "      <td>2020-03-02</td>\n",
       "      <td>2020-01-26</td>\n",
       "      <td>-25.274398</td>\n",
       "      <td>133.775136</td>\n",
       "      <td>37.4</td>\n",
       "      <td>2020-03-25</td>\n",
       "      <td>Partial</td>\n",
       "      <td>AUS</td>\n",
       "    </tr>\n",
       "    <tr>\n",
       "      <td>9</td>\n",
       "      <td>Austria</td>\n",
       "      <td>8840521</td>\n",
       "      <td>30816000</td>\n",
       "      <td>2020-03-13</td>\n",
       "      <td>2020-02-26</td>\n",
       "      <td>47.516231</td>\n",
       "      <td>14.550072</td>\n",
       "      <td>43.2</td>\n",
       "      <td>2020-03-16</td>\n",
       "      <td>Full</td>\n",
       "      <td>AUT</td>\n",
       "    </tr>\n",
       "  </tbody>\n",
       "</table>\n",
       "</div>"
      ],
      "text/plain": [
       "        Country_Region  Population_Size   Tourism Date_FirstFatality  \\\n",
       "0          Afghanistan         37172386     14000         2020-03-23   \n",
       "1              Albania          2866376   5340000         2020-03-12   \n",
       "2              Algeria         42228429   2657000         2020-03-13   \n",
       "3              Andorra            77006   3042000         2020-03-23   \n",
       "4               Angola         30809762    218000         2020-03-30   \n",
       "5  Antigua and Barbuda            96286    269000         2020-04-08   \n",
       "6            Argentina         44494502   6942000         2020-03-09   \n",
       "7              Armenia          2951776   1652000         2020-03-27   \n",
       "8            Australia         24982688   9246000         2020-03-02   \n",
       "9              Austria          8840521  30816000         2020-03-13   \n",
       "\n",
       "  Date_FirstConfirmedCase   Latitude  Longtitude  Mean_Age Lockdown_Date  \\\n",
       "0              2020-02-25  33.939110   67.709953      17.3    2020-03-24   \n",
       "1              2020-03-10  41.153332   20.168331      36.2    2020-03-08   \n",
       "2              2020-02-26  28.033886    1.659626      27.5    2020-03-24   \n",
       "3              2020-03-03  42.546245    1.601554      37.0    2020-03-16   \n",
       "4              2020-03-21 -11.202692   17.873887      16.4           NaN   \n",
       "5              2020-03-14  17.060816  -61.796428      30.7           NaN   \n",
       "6              2020-03-04 -38.416097  -63.616672      30.8    2020-03-20   \n",
       "7              2020-03-02  40.069099   45.038189      33.9    2020-03-24   \n",
       "8              2020-01-26 -25.274398  133.775136      37.4    2020-03-25   \n",
       "9              2020-02-26  47.516231   14.550072      43.2    2020-03-16   \n",
       "\n",
       "  Lockdown_Type Country_Code  \n",
       "0          Full          AFG  \n",
       "1          Full          ALB  \n",
       "2          Full          DZA  \n",
       "3          Full          AND  \n",
       "4           NaN          AGO  \n",
       "5           NaN          ATG  \n",
       "6          Full          ARG  \n",
       "7          Full          ARM  \n",
       "8       Partial          AUS  \n",
       "9          Full          AUT  "
      ]
     },
     "execution_count": 3,
     "metadata": {},
     "output_type": "execute_result"
    }
   ],
   "source": [
    "covid_df.head(10)"
   ]
  },
  {
   "cell_type": "code",
   "execution_count": 4,
   "metadata": {},
   "outputs": [
    {
     "name": "stdout",
     "output_type": "stream",
     "text": [
      "<class 'pandas.core.frame.DataFrame'>\n",
      "RangeIndex: 184 entries, 0 to 183\n",
      "Data columns (total 11 columns):\n",
      "Country_Region             184 non-null object\n",
      "Population_Size            184 non-null int64\n",
      "Tourism                    184 non-null int64\n",
      "Date_FirstFatality         156 non-null object\n",
      "Date_FirstConfirmedCase    184 non-null object\n",
      "Latitude                   184 non-null float64\n",
      "Longtitude                 184 non-null float64\n",
      "Mean_Age                   184 non-null float64\n",
      "Lockdown_Date              151 non-null object\n",
      "Lockdown_Type              151 non-null object\n",
      "Country_Code               184 non-null object\n",
      "dtypes: float64(3), int64(2), object(6)\n",
      "memory usage: 15.9+ KB\n"
     ]
    }
   ],
   "source": [
    "covid_df.info()"
   ]
  },
  {
   "cell_type": "markdown",
   "metadata": {},
   "source": [
    "Lets identify numerical and categorical features in the dataset"
   ]
  },
  {
   "cell_type": "code",
   "execution_count": 5,
   "metadata": {},
   "outputs": [
    {
     "name": "stdout",
     "output_type": "stream",
     "text": [
      "Numerical features 5\n",
      "Categorical features 6\n"
     ]
    }
   ],
   "source": [
    "num_features = covid_df.dtypes[covid_df.dtypes != 'object'].index\n",
    "print('Numerical features', len(num_features))\n",
    "\n",
    "cat_features = covid_df.dtypes[covid_df.dtypes == 'object'].index\n",
    "print('Categorical features', len(cat_features))\n"
   ]
  },
  {
   "cell_type": "code",
   "execution_count": 6,
   "metadata": {},
   "outputs": [
    {
     "name": "stdout",
     "output_type": "stream",
     "text": [
      "Numerical features Index(['Population_Size', 'Tourism', 'Latitude', 'Longtitude', 'Mean_Age'], dtype='object')\n",
      "Categorical features Index(['Country_Region', 'Date_FirstFatality', 'Date_FirstConfirmedCase',\n",
      "       'Lockdown_Date', 'Lockdown_Type', 'Country_Code'],\n",
      "      dtype='object')\n"
     ]
    }
   ],
   "source": [
    "print(\"Numerical features\", covid_df[num_features].columns)\n",
    "\n",
    "print(\"Categorical features\", covid_df[cat_features].columns)"
   ]
  },
  {
   "cell_type": "markdown",
   "metadata": {},
   "source": [
    "Lets find out if we have any missing values. "
   ]
  },
  {
   "cell_type": "code",
   "execution_count": 7,
   "metadata": {},
   "outputs": [
    {
     "data": {
      "text/plain": [
       "Country_Region              0\n",
       "Population_Size             0\n",
       "Tourism                     0\n",
       "Date_FirstFatality         28\n",
       "Date_FirstConfirmedCase     0\n",
       "Latitude                    0\n",
       "Longtitude                  0\n",
       "Mean_Age                    0\n",
       "Lockdown_Date              33\n",
       "Lockdown_Type              33\n",
       "Country_Code                0\n",
       "dtype: int64"
      ]
     },
     "execution_count": 7,
     "metadata": {},
     "output_type": "execute_result"
    }
   ],
   "source": [
    "covid_df.isnull().sum()"
   ]
  },
  {
   "cell_type": "markdown",
   "metadata": {},
   "source": [
    "Features 'Date_FirstFatality', 'Lockdown_Date ' and 'Lockdown_Type' have some missing values. Before we decide on what to do, we will consider the the percentage of missing values."
   ]
  },
  {
   "cell_type": "code",
   "execution_count": 8,
   "metadata": {},
   "outputs": [
    {
     "data": {
      "text/html": [
       "<div>\n",
       "<style scoped>\n",
       "    .dataframe tbody tr th:only-of-type {\n",
       "        vertical-align: middle;\n",
       "    }\n",
       "\n",
       "    .dataframe tbody tr th {\n",
       "        vertical-align: top;\n",
       "    }\n",
       "\n",
       "    .dataframe thead th {\n",
       "        text-align: right;\n",
       "    }\n",
       "</style>\n",
       "<table border=\"1\" class=\"dataframe\">\n",
       "  <thead>\n",
       "    <tr style=\"text-align: right;\">\n",
       "      <th></th>\n",
       "      <th>0</th>\n",
       "      <th>1</th>\n",
       "    </tr>\n",
       "  </thead>\n",
       "  <tbody>\n",
       "    <tr>\n",
       "      <td>Lockdown_Type</td>\n",
       "      <td>33</td>\n",
       "      <td>0.179348</td>\n",
       "    </tr>\n",
       "    <tr>\n",
       "      <td>Lockdown_Date</td>\n",
       "      <td>33</td>\n",
       "      <td>0.179348</td>\n",
       "    </tr>\n",
       "    <tr>\n",
       "      <td>Date_FirstFatality</td>\n",
       "      <td>28</td>\n",
       "      <td>0.152174</td>\n",
       "    </tr>\n",
       "    <tr>\n",
       "      <td>Country_Code</td>\n",
       "      <td>0</td>\n",
       "      <td>0.000000</td>\n",
       "    </tr>\n",
       "    <tr>\n",
       "      <td>Mean_Age</td>\n",
       "      <td>0</td>\n",
       "      <td>0.000000</td>\n",
       "    </tr>\n",
       "    <tr>\n",
       "      <td>Longtitude</td>\n",
       "      <td>0</td>\n",
       "      <td>0.000000</td>\n",
       "    </tr>\n",
       "    <tr>\n",
       "      <td>Latitude</td>\n",
       "      <td>0</td>\n",
       "      <td>0.000000</td>\n",
       "    </tr>\n",
       "    <tr>\n",
       "      <td>Date_FirstConfirmedCase</td>\n",
       "      <td>0</td>\n",
       "      <td>0.000000</td>\n",
       "    </tr>\n",
       "    <tr>\n",
       "      <td>Tourism</td>\n",
       "      <td>0</td>\n",
       "      <td>0.000000</td>\n",
       "    </tr>\n",
       "    <tr>\n",
       "      <td>Population_Size</td>\n",
       "      <td>0</td>\n",
       "      <td>0.000000</td>\n",
       "    </tr>\n",
       "  </tbody>\n",
       "</table>\n",
       "</div>"
      ],
      "text/plain": [
       "                          0         1\n",
       "Lockdown_Type            33  0.179348\n",
       "Lockdown_Date            33  0.179348\n",
       "Date_FirstFatality       28  0.152174\n",
       "Country_Code              0  0.000000\n",
       "Mean_Age                  0  0.000000\n",
       "Longtitude                0  0.000000\n",
       "Latitude                  0  0.000000\n",
       "Date_FirstConfirmedCase   0  0.000000\n",
       "Tourism                   0  0.000000\n",
       "Population_Size           0  0.000000"
      ]
     },
     "execution_count": 8,
     "metadata": {},
     "output_type": "execute_result"
    }
   ],
   "source": [
    "missing_values = covid_df.isnull().sum().sort_values(ascending=False)\n",
    "percentage_values = (covid_df.isnull().sum()/covid_df.isnull().count()).sort_values(ascending=False)\n",
    "missing_data=pd.concat([missing_values,percentage_values], axis=1)\n",
    "\n",
    "missing_data.head(10)"
   ]
  },
  {
   "cell_type": "markdown",
   "metadata": {},
   "source": [
    "The percentage of missing values is neglligible hence we will fill in the missing values with zeros. "
   ]
  },
  {
   "cell_type": "code",
   "execution_count": 9,
   "metadata": {},
   "outputs": [],
   "source": [
    "covid_df=covid_df.fillna(0)"
   ]
  },
  {
   "cell_type": "markdown",
   "metadata": {},
   "source": [
    "# 3. Feature Correlation"
   ]
  },
  {
   "cell_type": "markdown",
   "metadata": {},
   "source": [
    "A correlation matrix is only given for numerical features in the dataset"
   ]
  },
  {
   "cell_type": "code",
   "execution_count": 10,
   "metadata": {},
   "outputs": [
    {
     "data": {
      "image/png": "[encoded data removed]",
      "text/plain": [
       "<Figure size 2160x1080 with 2 Axes>"
      ]
     },
     "metadata": {
      "needs_background": "light"
     },
     "output_type": "display_data"
    }
   ],
   "source": [
    "plt.figure(figsize=(30,15))\n",
    "cor = covid_df.corr()\n",
    "sns.heatmap(cor, annot=True)\n",
    "plt.show()"
   ]
  },
  {
   "cell_type": "markdown",
   "metadata": {},
   "source": [
    "From the viualization above we can conclude that the features are not highly correlated.\n"
   ]
  },
  {
   "cell_type": "markdown",
   "metadata": {},
   "source": [
    "# 4. Analysis on the features"
   ]
  },
  {
   "cell_type": "code",
   "execution_count": 11,
   "metadata": {},
   "outputs": [
    {
     "data": {
      "image/png": "[encoded data removed]",
      "text/plain": [
       "<Figure size 360x360 with 1 Axes>"
      ]
     },
     "metadata": {
      "needs_background": "light"
     },
     "output_type": "display_data"
    }
   ],
   "source": [
    "# Feature: Lockdown_Type\n",
    "\n",
    "sns.catplot(x='Lockdown_Type', kind=\"count\", palette=\"pastel\", data=covid_df);"
   ]
  },
  {
   "cell_type": "markdown",
   "metadata": {},
   "source": [
    "Most of the lockdowns imposed were full lockdowns."
   ]
  },
  {
   "cell_type": "code",
   "execution_count": 12,
   "metadata": {},
   "outputs": [
    {
     "data": {
      "text/plain": [
       "<matplotlib.axes._subplots.AxesSubplot at 0x2c1835575f8>"
      ]
     },
     "execution_count": 12,
     "metadata": {},
     "output_type": "execute_result"
    },
    {
     "data": {
      "image/png": "[encoded data removed]",
      "text/plain": [
       "<Figure size 432x288 with 1 Axes>"
      ]
     },
     "metadata": {
      "needs_background": "light"
     },
     "output_type": "display_data"
    }
   ],
   "source": [
    "# Feature:Mean_Age\n",
    "\n",
    "sns.distplot(a=covid_df['Mean_Age'],label=\"Age\",color='y')"
   ]
  },
  {
   "cell_type": "markdown",
   "metadata": {},
   "source": [
    "Mean age recorded in most countries tat went under lockdown is around 35 years. "
   ]
  },
  {
   "cell_type": "code",
   "execution_count": 13,
   "metadata": {},
   "outputs": [
    {
     "data": {
      "text/plain": [
       "<matplotlib.axes._subplots.AxesSubplot at 0x2c18353ca58>"
      ]
     },
     "execution_count": 13,
     "metadata": {},
     "output_type": "execute_result"
    },
    {
     "data": {
      "image/png": "[encoded data removed]",
      "text/plain": [
       "<Figure size 432x288 with 1 Axes>"
      ]
     },
     "metadata": {
      "needs_background": "light"
     },
     "output_type": "display_data"
    }
   ],
   "source": [
    "# Feature:Population_Size\n",
    "sns.distplot(a=covid_df['Population_Size'],label=\"Population\")"
   ]
  },
  {
   "cell_type": "markdown",
   "metadata": {},
   "source": [
    "The population of most countries that went into lockdown is less than 200 million."
   ]
  },
  {
   "cell_type": "code",
   "execution_count": 14,
   "metadata": {},
   "outputs": [
    {
     "data": {
      "text/plain": [
       "<matplotlib.axes._subplots.AxesSubplot at 0x2c1836d00b8>"
      ]
     },
     "execution_count": 14,
     "metadata": {},
     "output_type": "execute_result"
    },
    {
     "data": {
      "image/png": "[encoded data removed]",
      "text/plain": [
       "<Figure size 432x288 with 1 Axes>"
      ]
     },
     "metadata": {
      "needs_background": "light"
     },
     "output_type": "display_data"
    }
   ],
   "source": [
    "sns.lineplot(x=covid_df['Mean_Age'], y=covid_df['Population_Size'])"
   ]
  },
  {
   "cell_type": "markdown",
   "metadata": {},
   "source": [
    "An interesting relationship is seen here with the 'Mean_Age' and 'Population_Size'. It is clear that the country with the highest population has a mean_age of approximately 27."
   ]
  },
  {
   "cell_type": "markdown",
   "metadata": {},
   "source": [
    "The following features are date features, hence we will separate the date into three separate features, namely,year, month and day"
   ]
  },
  {
   "cell_type": "code",
   "execution_count": 15,
   "metadata": {},
   "outputs": [
    {
     "data": {
      "text/plain": [
       "<matplotlib.axes._subplots.AxesSubplot at 0x2c18353cdd8>"
      ]
     },
     "execution_count": 15,
     "metadata": {},
     "output_type": "execute_result"
    },
    {
     "data": {
      "image/png": "[encoded data removed]",
      "text/plain": [
       "<Figure size 432x288 with 1 Axes>"
      ]
     },
     "metadata": {
      "needs_background": "light"
     },
     "output_type": "display_data"
    }
   ],
   "source": [
    "#Feature :Date_FirstConfirmedCase\n",
    "covid_df['Date_FirstConfirmedCase_Year']= pd.DatetimeIndex(covid_df['Date_FirstConfirmedCase']).year\n",
    "covid_df['Date_FirstConfirmedCase_Month']= pd.DatetimeIndex(covid_df['Date_FirstConfirmedCase']).month\n",
    "covid_df['Date_FirstConfirmedCase_Day']= pd.DatetimeIndex(covid_df['Date_FirstConfirmedCase']).day\n",
    "\n",
    "\n",
    "\n",
    "sns.barplot(x=covid_df['Date_FirstConfirmedCase_Month'], y=covid_df['Date_FirstConfirmedCase_Day'])"
   ]
  },
  {
   "cell_type": "markdown",
   "metadata": {},
   "source": [
    "For this feature, all the cases were first confirmed in the year 2020, hence we did not visualize the year.\n",
    "The visualization above reveals that the first cases were confirmed in January which is the first month, with most cases being recorded towards the end of the month."
   ]
  },
  {
   "cell_type": "code",
   "execution_count": 16,
   "metadata": {},
   "outputs": [
    {
     "data": {
      "text/plain": [
       "<matplotlib.axes._subplots.AxesSubplot at 0x2c18374d1d0>"
      ]
     },
     "execution_count": 16,
     "metadata": {},
     "output_type": "execute_result"
    },
    {
     "data": {
      "image/png": "[encoded data removed]",
      "text/plain": [
       "<Figure size 432x288 with 1 Axes>"
      ]
     },
     "metadata": {
      "needs_background": "light"
     },
     "output_type": "display_data"
    }
   ],
   "source": [
    "#Feature :Date of First Fatality\n",
    "covid_df['Date_FirstFatality_Year']= pd.DatetimeIndex(covid_df['Date_FirstFatality']).year\n",
    "covid_df['Date_FirstFatality_Month']= pd.DatetimeIndex(covid_df['Date_FirstFatality']).month\n",
    "covid_df['Date_FirstFatality_Day']= pd.DatetimeIndex(covid_df['Date_FirstFatality']).day\n",
    "\n",
    "\n",
    "sns.kdeplot(data=covid_df['Date_FirstFatality_Year'])\n",
    "\n"
   ]
  },
  {
   "cell_type": "markdown",
   "metadata": {},
   "source": [
    "So its pretty strange why we have 1970 in our datset but on the other hand 2020 is the year in which the first fatalies were recorded."
   ]
  },
  {
   "cell_type": "code",
   "execution_count": 17,
   "metadata": {},
   "outputs": [
    {
     "data": {
      "text/plain": [
       "<matplotlib.axes._subplots.AxesSubplot at 0x2c1838381d0>"
      ]
     },
     "execution_count": 17,
     "metadata": {},
     "output_type": "execute_result"
    },
    {
     "data": {
      "image/png": "[encoded data removed]",
      "text/plain": [
       "<Figure size 432x288 with 1 Axes>"
      ]
     },
     "metadata": {
      "needs_background": "light"
     },
     "output_type": "display_data"
    }
   ],
   "source": [
    "sns.distplot(a=covid_df['Date_FirstFatality_Month'])"
   ]
  },
  {
   "cell_type": "markdown",
   "metadata": {},
   "source": [
    "Most of the first fatalities were recorded in the month of March which is the third month."
   ]
  },
  {
   "cell_type": "code",
   "execution_count": 18,
   "metadata": {},
   "outputs": [
    {
     "data": {
      "text/plain": [
       "<matplotlib.axes._subplots.AxesSubplot at 0x2c1838c1080>"
      ]
     },
     "execution_count": 18,
     "metadata": {},
     "output_type": "execute_result"
    },
    {
     "data": {
      "image/png": "[encoded data removed]",
      "text/plain": [
       "<Figure size 432x288 with 1 Axes>"
      ]
     },
     "metadata": {
      "needs_background": "light"
     },
     "output_type": "display_data"
    }
   ],
   "source": [
    "sns.distplot(a=covid_df['Date_FirstFatality_Day'], kde=False, color='y')"
   ]
  },
  {
   "cell_type": "markdown",
   "metadata": {},
   "source": [
    "We had a lot of fatalities occuring within the first five days of the month."
   ]
  },
  {
   "cell_type": "code",
   "execution_count": 19,
   "metadata": {},
   "outputs": [
    {
     "data": {
      "text/plain": [
       "<matplotlib.axes._subplots.AxesSubplot at 0x2c183926898>"
      ]
     },
     "execution_count": 19,
     "metadata": {},
     "output_type": "execute_result"
    },
    {
     "data": {
      "image/png": "[encoded data removed]",
      "text/plain": [
       "<Figure size 432x288 with 1 Axes>"
      ]
     },
     "metadata": {
      "needs_background": "light"
     },
     "output_type": "display_data"
    }
   ],
   "source": [
    "#Feature:Lockdown_Date\n",
    "covid_df['Lockdown_Date_Year']= pd.DatetimeIndex(covid_df['Lockdown_Date']).year\n",
    "covid_df['Lockdown_Date_Month']= pd.DatetimeIndex(covid_df['Lockdown_Date']).month\n",
    "covid_df['Lockdown_Date_Day']= pd.DatetimeIndex(covid_df['Lockdown_Date']).day\n",
    "\n",
    "sns.distplot(a=covid_df['Lockdown_Date_Month'],color='red')"
   ]
  },
  {
   "cell_type": "markdown",
   "metadata": {},
   "source": [
    "Most of the lockdowns came into efect in the third month which is March. Recall that March was when most of the fatalities were recorded. A possible reason could be that countries went under lockdown when people started dying from COVID-19."
   ]
  },
  {
   "cell_type": "code",
   "execution_count": 20,
   "metadata": {},
   "outputs": [
    {
     "data": {
      "text/plain": [
       "<matplotlib.axes._subplots.AxesSubplot at 0x2c1831be400>"
      ]
     },
     "execution_count": 20,
     "metadata": {},
     "output_type": "execute_result"
    },
    {
     "data": {
      "image/png": "[encoded data removed]",
      "text/plain": [
       "<Figure size 432x288 with 1 Axes>"
      ]
     },
     "metadata": {
      "needs_background": "light"
     },
     "output_type": "display_data"
    }
   ],
   "source": [
    "sns.distplot(a=covid_df['Lockdown_Date_Day'] )"
   ]
  },
  {
   "cell_type": "markdown",
   "metadata": {},
   "source": [
    "Lockdowns were mostly effected during the middle of the month."
   ]
  }
 ],
 "metadata": {
  "kernelspec": {
   "display_name": "Python 3",
   "language": "python",
   "name": "python3"
  },
  "language_info": {
   "codemirror_mode": {
    "name": "ipython",
    "version": 3
   },
   "file_extension": ".py",
   "mimetype": "text/x-python",
   "name": "python",
   "nbconvert_exporter": "python",
   "pygments_lexer": "ipython3",
   "version": "3.7.1"
  }
 },
 "nbformat": 4,
 "nbformat_minor": 2
}
